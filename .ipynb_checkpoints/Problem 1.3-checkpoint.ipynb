{
 "cells": [
  {
   "cell_type": "markdown",
   "metadata": {},
   "source": [
    "Consider the gaussian distribution"
   ]
  },
  {
   "cell_type": "code",
   "execution_count": 26,
   "metadata": {},
   "outputs": [],
   "source": [
    "import numpy as np\n",
    "%display latex\n",
    "\n",
    "x = var('x')\n",
    "rho = var('rho')\n",
    "A = var('A')\n",
    "l = var('l', latex_name=r'\\lambda')\n",
    "a = var('a')\n",
    "assume(l>0)\n",
    "\n",
    "eq0 = rho == A*e^(-l*(x-a)^2)"
   ]
  },
  {
   "cell_type": "code",
   "execution_count": 27,
   "metadata": {},
   "outputs": [
    {
     "data": {
      "text/html": [
       "<html><script type=\"math/tex; mode=display\">\\newcommand{\\Bold}[1]{\\mathbf{#1}}\\rho = A e^{\\left(-{\\left(a - x\\right)}^{2} {\\lambda}\\right)}</script></html>"
      ],
      "text/latex": [
       "$$\\newcommand{\\Bold}[1]{\\mathbf{#1}}\\rho = A e^{\\left(-{\\left(a - x\\right)}^{2} {\\lambda}\\right)}$$"
      ],
      "text/plain": [
       "rho == A*e^(-(a - x)^2*l)"
      ]
     },
     "metadata": {},
     "output_type": "display_data"
    }
   ],
   "source": [
    "show(eq0) #the probability density"
   ]
  },
  {
   "cell_type": "markdown",
   "metadata": {},
   "source": [
    "(a): Determine A"
   ]
  },
  {
   "cell_type": "code",
   "execution_count": 28,
   "metadata": {},
   "outputs": [
    {
     "data": {
      "text/html": [
       "<html><script type=\"math/tex; mode=display\">\\newcommand{\\Bold}[1]{\\mathbf{#1}}\\int_{-\\infty}^{+\\infty} A e^{\\left(-{\\left(a - x\\right)}^{2} {\\lambda}\\right)}\\,{d x} \\phantom{\\verb!x!}\\verb|=| 1</script></html>"
      ],
      "text/latex": [
       "$$\\newcommand{\\Bold}[1]{\\mathbf{#1}}\\int_{-\\infty}^{+\\infty} A e^{\\left(-{\\left(a - x\\right)}^{2} {\\lambda}\\right)}\\,{d x} \\phantom{\\verb!x!}\\verb|=| 1$$"
      ],
      "text/plain": [
       "integrate(A*e^(-(a - x)^2*l), x, -Infinity, +Infinity) ' = ' 1"
      ]
     },
     "metadata": {},
     "output_type": "display_data"
    },
    {
     "data": {
      "text/html": [
       "<html><script type=\"math/tex; mode=display\">\\newcommand{\\Bold}[1]{\\mathbf{#1}}\\frac{\\sqrt{\\pi} A}{\\sqrt{{\\lambda}}} = 1</script></html>"
      ],
      "text/latex": [
       "$$\\newcommand{\\Bold}[1]{\\mathbf{#1}}\\frac{\\sqrt{\\pi} A}{\\sqrt{{\\lambda}}} = 1$$"
      ],
      "text/plain": [
       "sqrt(pi)*A/sqrt(l) == 1"
      ]
     },
     "metadata": {},
     "output_type": "display_data"
    },
    {
     "data": {
      "text/html": [
       "<html><script type=\"math/tex; mode=display\">\\newcommand{\\Bold}[1]{\\mathbf{#1}}A = \\frac{\\sqrt{{\\lambda}}}{\\sqrt{\\pi}}</script></html>"
      ],
      "text/latex": [
       "$$\\newcommand{\\Bold}[1]{\\mathbf{#1}}A = \\frac{\\sqrt{{\\lambda}}}{\\sqrt{\\pi}}$$"
      ],
      "text/plain": [
       "A == sqrt(l)/sqrt(pi)"
      ]
     },
     "metadata": {},
     "output_type": "display_data"
    }
   ],
   "source": [
    "#show(integrate(tan(x),x,hold=True),'=', integrate(tan(x),x))\n",
    "show(eq0.rhs().integral(x, -infinity, infinity, hold=True), r' = ', 1)\n",
    "Int0 = eq0.rhs().integral(x, -infinity, infinity) == 1\n",
    "display(Int0) #integrate rho from negative infinity to infinity\n",
    "eqA = solve(Int0.lhs()==1, A)[0]\n",
    "display(eqA) #solve for A when the integral has to equal 1"
   ]
  },
  {
   "cell_type": "code",
   "execution_count": 29,
   "metadata": {},
   "outputs": [
    {
     "data": {
      "text/html": [
       "<html><script type=\"math/tex; mode=display\">\\newcommand{\\Bold}[1]{\\mathbf{#1}}\\rho = \\frac{\\sqrt{{\\lambda}} e^{\\left(-{\\left(a - x\\right)}^{2} {\\lambda}\\right)}}{\\sqrt{\\pi}}</script></html>"
      ],
      "text/latex": [
       "$$\\newcommand{\\Bold}[1]{\\mathbf{#1}}\\rho = \\frac{\\sqrt{{\\lambda}} e^{\\left(-{\\left(a - x\\right)}^{2} {\\lambda}\\right)}}{\\sqrt{\\pi}}$$"
      ],
      "text/plain": [
       "rho == sqrt(l)*e^(-(a - x)^2*l)/sqrt(pi)"
      ]
     },
     "metadata": {},
     "output_type": "display_data"
    }
   ],
   "source": [
    "eq0 = eq0.subs(eqA)\n",
    "display(eq0) #substituted solution for A into rho"
   ]
  },
  {
   "cell_type": "markdown",
   "metadata": {},
   "source": [
    "(b): Find $\\langle x\\rangle$, $\\langle x^2\\rangle$, $\\sigma$."
   ]
  },
  {
   "cell_type": "code",
   "execution_count": 30,
   "metadata": {},
   "outputs": [
    {
     "data": {
      "text/html": [
       "<html><script type=\"math/tex; mode=display\">\\newcommand{\\Bold}[1]{\\mathbf{#1}}\\langle x\\rangle = \\int_{-\\infty}^{+\\infty} \\frac{\\sqrt{{\\lambda}} x e^{\\left(-{\\left(a - x\\right)}^{2} {\\lambda}\\right)}}{\\sqrt{\\pi}}\\,{d x}</script></html>"
      ],
      "text/latex": [
       "$$\\newcommand{\\Bold}[1]{\\mathbf{#1}}\\langle x\\rangle = \\int_{-\\infty}^{+\\infty} \\frac{\\sqrt{{\\lambda}} x e^{\\left(-{\\left(a - x\\right)}^{2} {\\lambda}\\right)}}{\\sqrt{\\pi}}\\,{d x}$$"
      ],
      "text/plain": [
       "\\langle x\\rangle = integrate(sqrt(l)*x*e^(-(a - x)^2*l)/sqrt(pi), x, -Infinity, +Infinity)"
      ]
     },
     "metadata": {},
     "output_type": "display_data"
    },
    {
     "data": {
      "text/html": [
       "<html><script type=\"math/tex; mode=display\">\\newcommand{\\Bold}[1]{\\mathbf{#1}}\\langle x\\rangle =  a</script></html>"
      ],
      "text/latex": [
       "$$\\newcommand{\\Bold}[1]{\\mathbf{#1}}\\langle x\\rangle =  a$$"
      ],
      "text/plain": [
       "\\langle x\\rangle =  a"
      ]
     },
     "metadata": {},
     "output_type": "display_data"
    }
   ],
   "source": [
    "eq2 = x*eq0\n",
    "show(LatexExpr(r'\\langle x\\rangle ='),eq2.rhs().integral(x, -infinity, infinity, hold=True))\n",
    "x1 = eq2.rhs().integral(x, -infinity, infinity)\n",
    "show(LatexExpr(r'\\langle x\\rangle = '), x1) #finding the expected value of x (the mean)"
   ]
  },
  {
   "cell_type": "code",
   "execution_count": 31,
   "metadata": {},
   "outputs": [
    {
     "data": {
      "text/html": [
       "<html><script type=\"math/tex; mode=display\">\\newcommand{\\Bold}[1]{\\mathbf{#1}}\\langle x^2\\rangle = \\int_{-\\infty}^{+\\infty} \\frac{\\sqrt{{\\lambda}} x^{2} e^{\\left(-{\\left(a - x\\right)}^{2} {\\lambda}\\right)}}{\\sqrt{\\pi}}\\,{d x}</script></html>"
      ],
      "text/latex": [
       "$$\\newcommand{\\Bold}[1]{\\mathbf{#1}}\\langle x^2\\rangle = \\int_{-\\infty}^{+\\infty} \\frac{\\sqrt{{\\lambda}} x^{2} e^{\\left(-{\\left(a - x\\right)}^{2} {\\lambda}\\right)}}{\\sqrt{\\pi}}\\,{d x}$$"
      ],
      "text/plain": [
       "\\langle x^2\\rangle = integrate(sqrt(l)*x^2*e^(-(a - x)^2*l)/sqrt(pi), x, -Infinity, +Infinity)"
      ]
     },
     "metadata": {},
     "output_type": "display_data"
    },
    {
     "data": {
      "text/html": [
       "<html><script type=\"math/tex; mode=display\">\\newcommand{\\Bold}[1]{\\mathbf{#1}}\\langle x^2\\rangle = \\frac{2 \\, a^{2} {\\lambda} + 1}{2 \\, {\\lambda}}</script></html>"
      ],
      "text/latex": [
       "$$\\newcommand{\\Bold}[1]{\\mathbf{#1}}\\langle x^2\\rangle = \\frac{2 \\, a^{2} {\\lambda} + 1}{2 \\, {\\lambda}}$$"
      ],
      "text/plain": [
       "\\langle x^2\\rangle = 1/2*(2*a^2*l + 1)/l"
      ]
     },
     "metadata": {},
     "output_type": "display_data"
    }
   ],
   "source": [
    "eq3 = x^2*eq0\n",
    "show(LatexExpr(r'\\langle x^2\\rangle ='),eq3.rhs().integral(x, -infinity, infinity, hold=True))\n",
    "x2 = eq3.rhs().integral(x, -infinity, infinity).full_simplify()\n",
    "show(LatexExpr(r'\\langle x^2\\rangle ='),x2) #finding the expected value of x^2"
   ]
  },
  {
   "cell_type": "code",
   "execution_count": 32,
   "metadata": {},
   "outputs": [
    {
     "data": {
      "text/html": [
       "<html><script type=\"math/tex; mode=display\">\\newcommand{\\Bold}[1]{\\mathbf{#1}}\\sigma  = \\sqrt{\\langle x^2\\rangle - \\langle x\\rangle^2}</script></html>"
      ],
      "text/latex": [
       "$$\\newcommand{\\Bold}[1]{\\mathbf{#1}}\\sigma  = \\sqrt{\\langle x^2\\rangle - \\langle x\\rangle^2}$$"
      ],
      "text/plain": [
       "sigma  = \\sqrt{\\langle x^2\\rangle - \\langle x\\rangle^2}"
      ]
     },
     "metadata": {},
     "output_type": "display_data"
    },
    {
     "data": {
      "text/html": [
       "<html><script type=\"math/tex; mode=display\">\\newcommand{\\Bold}[1]{\\mathbf{#1}}\\sigma = \\sqrt{-a^{2} + \\frac{2 \\, a^{2} {\\lambda} + 1}{2 \\, {\\lambda}}}</script></html>"
      ],
      "text/latex": [
       "$$\\newcommand{\\Bold}[1]{\\mathbf{#1}}\\sigma = \\sqrt{-a^{2} + \\frac{2 \\, a^{2} {\\lambda} + 1}{2 \\, {\\lambda}}}$$"
      ],
      "text/plain": [
       "sigma == sqrt(-a^2 + 1/2*(2*a^2*l + 1)/l)"
      ]
     },
     "metadata": {},
     "output_type": "display_data"
    },
    {
     "data": {
      "text/html": [
       "<html><script type=\"math/tex; mode=display\">\\newcommand{\\Bold}[1]{\\mathbf{#1}}\\sigma = \\frac{\\sqrt{2}}{2 \\, \\sqrt{{\\lambda}}}</script></html>"
      ],
      "text/latex": [
       "$$\\newcommand{\\Bold}[1]{\\mathbf{#1}}\\sigma = \\frac{\\sqrt{2}}{2 \\, \\sqrt{{\\lambda}}}$$"
      ],
      "text/plain": [
       "sigma == 1/2*sqrt(2)/sqrt(l)"
      ]
     },
     "metadata": {},
     "output_type": "display_data"
    }
   ],
   "source": [
    "sigma = var('sigma')\n",
    "eq3 = sigma == sqrt(x2-x1^2) #The standard deviation\n",
    "show(sigma, LatexExpr(r' = \\sqrt{\\langle x^2\\rangle - \\langle x\\rangle^2}'))\n",
    "show(eq3)\n",
    "show(eq3.full_simplify())"
   ]
  },
  {
   "cell_type": "code",
   "execution_count": 44,
   "metadata": {},
   "outputs": [
    {
     "data": {
      "image/png": "[encoded data removed]",
      "text/plain": [
       "Graphics object consisting of 1 graphics primitive"
      ]
     },
     "execution_count": 44,
     "metadata": {},
     "output_type": "execute_result"
    }
   ],
   "source": [
    "l_val = 1/2  #choose value for lambda\n",
    "a_val = 5    #choose value for a\n",
    "\n",
    "x_marks = [x1(a=a_val),x1(a=a_val)-eq3.rhs()(l=l_val, a=a_val), x1(a=a_val)+eq3.rhs()(l=l_val, a=a_val)]\n",
    "x_marks = [float(i) for i in x_marks]\n",
    "P = plot(eq0.rhs()(l=l_val, a=a_val), (0,10), legend_label=r\"$%s$\"%latex(eq0.lhs()), axes_labels=['x','y'], ticks=[x_marks,None], tick_formatter=[[r\"$\\langle x\\rangle$\", r\"$\\langle x\\rangle-\\sigma$\", r\"$\\langle x\\rangle+\\sigma$\"], None])\n",
    "P "
   ]
  }
 ],
 "metadata": {
  "kernelspec": {
   "display_name": "SageMath 9.3",
   "language": "sage",
   "name": "sagemath"
  }
 },
 "nbformat": 4,
 "nbformat_minor": 4
}
