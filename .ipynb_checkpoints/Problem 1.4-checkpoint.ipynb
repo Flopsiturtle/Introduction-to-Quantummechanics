{
 "cells": [
  {
   "cell_type": "code",
   "execution_count": 12,
   "metadata": {},
   "outputs": [
    {
     "data": {
      "text/html": [
       "<html><script type=\"math/tex; mode=display\">\\newcommand{\\Bold}[1]{\\mathbf{#1}}piecewise\\left(\\left(\\left(\\verb|(-oo,|\\phantom{\\verb!x!}\\verb|0)|, 0\\right), \\left(\\verb|(0,|\\phantom{\\verb!x!}\\verb|1)|, \\frac{A x}{a}\\right), \\left(\\verb|[1,|\\phantom{\\verb!x!}\\verb|2]|, -\\frac{b - x}{a - b}\\right), \\left(\\verb|(2,|\\phantom{\\verb!x!}\\verb|+oo)|, 0\\right)\\right), A\\right) = \\Psi</script></html>"
      ],
      "text/latex": [
       "$$\\newcommand{\\Bold}[1]{\\mathbf{#1}}piecewise\\left(\\left(\\left(\\verb|(-oo,|\\phantom{\\verb!x!}\\verb|0)|, 0\\right), \\left(\\verb|(0,|\\phantom{\\verb!x!}\\verb|1)|, \\frac{A x}{a}\\right), \\left(\\verb|[1,|\\phantom{\\verb!x!}\\verb|2]|, -\\frac{b - x}{a - b}\\right), \\left(\\verb|(2,|\\phantom{\\verb!x!}\\verb|+oo)|, 0\\right)\\right), A\\right) = \\Psi$$"
      ],
      "text/plain": [
       "piecewise(A|-->0 on (-oo, 0), A|-->A*x/a on (0, 1), A|-->-(b - x)/(a - b) on [1, 2], A|-->0 on (2, +oo); A) == Psi"
      ]
     },
     "metadata": {},
     "output_type": "display_data"
    },
    {
     "name": "stdout",
     "output_type": "stream",
     "text": [
      "verbose 0 (3839: plot.py, generate_plot_points) WARNING: When plotting, failed to evaluate function at 40 points.\n",
      "verbose 0 (3839: plot.py, generate_plot_points) Last error message: 'unable to simplify to float approximation'\n"
     ]
    },
    {
     "data": {
      "image/png": "[encoded data removed]",
      "text/plain": [
       "Graphics object consisting of 2 graphics primitives"
      ]
     },
     "execution_count": 12,
     "metadata": {},
     "output_type": "execute_result"
    }
   ],
   "source": [
    "import numpy as np\n",
    "%display latex\n",
    "\n",
    "Psi = var('Psi')\n",
    "x = var('x')\n",
    "A, a, b = var('A', 'a', 'b')\n",
    "\n",
    "assume(A>0, a>0, b>0)\n",
    "\n",
    "eq0 = Psi == piecewise([((-oo,0), 0), ((0,1),A*(x/a)), ([1, 2],A(b-x)/(b-a)), ((2,+oo),0)])\n",
    "show(eq0)\n",
    "plot(eq0.lhs(),(-5,5))"
   ]
  }
 ],
 "metadata": {
  "kernelspec": {
   "display_name": "SageMath 9.3",
   "language": "sage",
   "name": "sagemath"
  },
  "language_info": {
   "codemirror_mode": {
    "name": "ipython",
    "version": 3
   },
   "file_extension": ".py",
   "mimetype": "text/x-python",
   "name": "python",
   "nbconvert_exporter": "python",
   "pygments_lexer": "ipython3",
   "version": "3.7.10"
  }
 },
 "nbformat": 4,
 "nbformat_minor": 4
}
