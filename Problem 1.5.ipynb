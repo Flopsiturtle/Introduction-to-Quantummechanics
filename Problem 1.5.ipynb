{
 "cells": [
  {
   "cell_type": "code",
   "execution_count": 26,
   "metadata": {},
   "outputs": [
    {
     "data": {
      "text/html": [
       "<html><script type=\"math/tex; mode=display\">\\newcommand{\\Bold}[1]{\\mathbf{#1}}\\Psi = A e^{\\left(-i \\, t {\\omega} - {\\lambda} {\\left| x \\right|}\\right)}</script></html>"
      ],
      "text/latex": [
       "$$\\newcommand{\\Bold}[1]{\\mathbf{#1}}\\Psi = A e^{\\left(-i \\, t {\\omega} - {\\lambda} {\\left| x \\right|}\\right)}$$"
      ],
      "text/plain": [
       "Psi == A*e^(-I*t*w - l*abs(x))"
      ]
     },
     "metadata": {},
     "output_type": "display_data"
    }
   ],
   "source": [
    "import numpy as np\n",
    "%display latex\n",
    "\n",
    "x, t = var('x', 't')\n",
    "Psi = var('Psi')\n",
    "A = var('A')\n",
    "w = var('w', latex_name=r'\\omega')\n",
    "l = var('l', latex_name=r'\\lambda')\n",
    "assume(l>0, A>0, w>0)\n",
    "assume(t, 'real')\n",
    "\n",
    "eq0 = Psi == A*e^(-l*abs(x))*e^(-I*w*t)\n",
    "show(eq0)"
   ]
  },
  {
   "cell_type": "markdown",
   "metadata": {},
   "source": [
    "(a): Normalize the Wavefunction."
   ]
  },
  {
   "cell_type": "code",
   "execution_count": 27,
   "metadata": {},
   "outputs": [
    {
     "data": {
      "text/html": [
       "<html><script type=\"math/tex; mode=display\">\\newcommand{\\Bold}[1]{\\mathbf{#1}}\\Psi \\overline{\\Psi} = A^{2} e^{\\left(-2 \\, {\\lambda} {\\left| x \\right|}\\right)}</script></html>"
      ],
      "text/latex": [
       "$$\\newcommand{\\Bold}[1]{\\mathbf{#1}}\\Psi \\overline{\\Psi} = A^{2} e^{\\left(-2 \\, {\\lambda} {\\left| x \\right|}\\right)}$$"
      ],
      "text/plain": [
       "Psi*conjugate(Psi) == A^2*e^(-2*l*abs(x))"
      ]
     },
     "metadata": {},
     "output_type": "display_data"
    },
    {
     "data": {
      "text/html": [
       "<html><script type=\"math/tex; mode=display\">\\newcommand{\\Bold}[1]{\\mathbf{#1}}\\int_{-\\infty}^{+\\infty} \\Psi \\overline{\\Psi}\\,{d x} \\phantom{\\verb!x!}\\verb|=| 1</script></html>"
      ],
      "text/latex": [
       "$$\\newcommand{\\Bold}[1]{\\mathbf{#1}}\\int_{-\\infty}^{+\\infty} \\Psi \\overline{\\Psi}\\,{d x} \\phantom{\\verb!x!}\\verb|=| 1$$"
      ],
      "text/plain": [
       "integrate(Psi*conjugate(Psi), x, -Infinity, +Infinity) ' = ' 1"
      ]
     },
     "metadata": {},
     "output_type": "display_data"
    },
    {
     "data": {
      "text/html": [
       "<html><script type=\"math/tex; mode=display\">\\newcommand{\\Bold}[1]{\\mathbf{#1}}\\frac{A^{2}}{{\\lambda}} = 1</script></html>"
      ],
      "text/latex": [
       "$$\\newcommand{\\Bold}[1]{\\mathbf{#1}}\\frac{A^{2}}{{\\lambda}} = 1$$"
      ],
      "text/plain": [
       "A^2/l == 1"
      ]
     },
     "metadata": {},
     "output_type": "display_data"
    },
    {
     "data": {
      "text/html": [
       "<html><script type=\"math/tex; mode=display\">\\newcommand{\\Bold}[1]{\\mathbf{#1}}A = \\sqrt{{\\lambda}}</script></html>"
      ],
      "text/latex": [
       "$$\\newcommand{\\Bold}[1]{\\mathbf{#1}}A = \\sqrt{{\\lambda}}$$"
      ],
      "text/plain": [
       "A == sqrt(l)"
      ]
     },
     "metadata": {},
     "output_type": "display_data"
    }
   ],
   "source": [
    "eq1 = eq0.lhs()*eq0.lhs().conjugate() == eq0.rhs()*eq0.rhs().conjugate() # define absolute value of Psi as new Equation\n",
    "show(eq1)\n",
    "show(eq1.lhs().integral(x, -infinity, infinity, hold=True), r' = ', 1) #show normalization condition\n",
    "norm = (eq1.rhs()).integral(x, -infinity, infinity) == 1 #solve Integral\n",
    "show(norm)\n",
    "eqA = solve(norm, A)[0] #solve for A\n",
    "show(eqA)"
   ]
  },
  {
   "cell_type": "code",
   "execution_count": 32,
   "metadata": {},
   "outputs": [
    {
     "data": {
      "text/html": [
       "<html><script type=\"math/tex; mode=display\">\\newcommand{\\Bold}[1]{\\mathbf{#1}}\\Psi = \\sqrt{{\\lambda}} e^{\\left(-i \\, t {\\omega} - {\\lambda} {\\left| x \\right|}\\right)}</script></html>"
      ],
      "text/latex": [
       "$$\\newcommand{\\Bold}[1]{\\mathbf{#1}}\\Psi = \\sqrt{{\\lambda}} e^{\\left(-i \\, t {\\omega} - {\\lambda} {\\left| x \\right|}\\right)}$$"
      ],
      "text/plain": [
       "Psi == sqrt(l)*e^(-I*t*w - l*abs(x))"
      ]
     },
     "metadata": {},
     "output_type": "display_data"
    }
   ],
   "source": [
    "eq0 = eq0.subs(eqA)\n",
    "eq1 = eq1.subs(eqA)\n",
    "display(eq0) #substitute A into wave function"
   ]
  },
  {
   "cell_type": "markdown",
   "metadata": {},
   "source": [
    "(b): Determine the expectation values of $x$ and $x^2$"
   ]
  },
  {
   "cell_type": "code",
   "execution_count": 37,
   "metadata": {},
   "outputs": [
    {
     "data": {
      "text/html": [
       "<html><script type=\"math/tex; mode=display\">\\newcommand{\\Bold}[1]{\\mathbf{#1}}\\langle x\\rangle = \\int_{-\\infty}^{+\\infty} {\\lambda} x e^{\\left(-2 \\, {\\lambda} {\\left| x \\right|}\\right)}\\,{d x}</script></html>"
      ],
      "text/latex": [
       "$$\\newcommand{\\Bold}[1]{\\mathbf{#1}}\\langle x\\rangle = \\int_{-\\infty}^{+\\infty} {\\lambda} x e^{\\left(-2 \\, {\\lambda} {\\left| x \\right|}\\right)}\\,{d x}$$"
      ],
      "text/plain": [
       "\\langle x\\rangle = integrate(l*x*e^(-2*l*abs(x)), x, -Infinity, +Infinity)"
      ]
     },
     "metadata": {},
     "output_type": "display_data"
    },
    {
     "data": {
      "text/html": [
       "<html><script type=\"math/tex; mode=display\">\\newcommand{\\Bold}[1]{\\mathbf{#1}}\\langle x\\rangle = 0</script></html>"
      ],
      "text/latex": [
       "$$\\newcommand{\\Bold}[1]{\\mathbf{#1}}\\langle x\\rangle = 0$$"
      ],
      "text/plain": [
       "\\langle x\\rangle = 0"
      ]
     },
     "metadata": {},
     "output_type": "display_data"
    }
   ],
   "source": [
    "eqx1 = x*eq1\n",
    "show(LatexExpr(r'\\langle x\\rangle ='),eqx1.rhs().integral(x, -infinity, infinity, hold=True))\n",
    "x1 = eqx1.rhs().integral(x, -infinity, infinity)\n",
    "show(LatexExpr(r'\\langle x\\rangle ='),x1)"
   ]
  },
  {
   "cell_type": "code",
   "execution_count": 41,
   "metadata": {},
   "outputs": [
    {
     "data": {
      "text/html": [
       "<html><script type=\"math/tex; mode=display\">\\newcommand{\\Bold}[1]{\\mathbf{#1}}\\langle x^2\\rangle = \\int_{-\\infty}^{+\\infty} {\\lambda} x^{2} e^{\\left(-2 \\, {\\lambda} {\\left| x \\right|}\\right)}\\,{d x}</script></html>"
      ],
      "text/latex": [
       "$$\\newcommand{\\Bold}[1]{\\mathbf{#1}}\\langle x^2\\rangle = \\int_{-\\infty}^{+\\infty} {\\lambda} x^{2} e^{\\left(-2 \\, {\\lambda} {\\left| x \\right|}\\right)}\\,{d x}$$"
      ],
      "text/plain": [
       "\\langle x^2\\rangle = integrate(l*x^2*e^(-2*l*abs(x)), x, -Infinity, +Infinity)"
      ]
     },
     "metadata": {},
     "output_type": "display_data"
    },
    {
     "data": {
      "text/html": [
       "<html><script type=\"math/tex; mode=display\">\\newcommand{\\Bold}[1]{\\mathbf{#1}}\\langle x^2\\rangle = \\frac{1}{2 \\, {\\lambda}^{2}}</script></html>"
      ],
      "text/latex": [
       "$$\\newcommand{\\Bold}[1]{\\mathbf{#1}}\\langle x^2\\rangle = \\frac{1}{2 \\, {\\lambda}^{2}}$$"
      ],
      "text/plain": [
       "\\langle x^2\\rangle = 1/2/l^2"
      ]
     },
     "metadata": {},
     "output_type": "display_data"
    }
   ],
   "source": [
    "eqx2 = x^2*eq1\n",
    "show(LatexExpr(r'\\langle x^2\\rangle ='),eqx2.rhs().integral(x, -infinity, infinity, hold=True))\n",
    "x2 = eqx2.rhs().integral(x, -infinity, infinity)\n",
    "show(LatexExpr(r'\\langle x^2\\rangle ='),x2)"
   ]
  },
  {
   "cell_type": "code",
   "execution_count": 44,
   "metadata": {},
   "outputs": [
    {
     "data": {
      "text/html": [
       "<html><script type=\"math/tex; mode=display\">\\newcommand{\\Bold}[1]{\\mathbf{#1}}\\sigma  = \\sqrt{\\langle x^2\\rangle - \\langle x\\rangle^2}</script></html>"
      ],
      "text/latex": [
       "$$\\newcommand{\\Bold}[1]{\\mathbf{#1}}\\sigma  = \\sqrt{\\langle x^2\\rangle - \\langle x\\rangle^2}$$"
      ],
      "text/plain": [
       "sigma  = \\sqrt{\\langle x^2\\rangle - \\langle x\\rangle^2}"
      ]
     },
     "metadata": {},
     "output_type": "display_data"
    },
    {
     "data": {
      "text/html": [
       "<html><script type=\"math/tex; mode=display\">\\newcommand{\\Bold}[1]{\\mathbf{#1}}\\sigma = \\frac{\\sqrt{2}}{2 \\, {\\lambda}}</script></html>"
      ],
      "text/latex": [
       "$$\\newcommand{\\Bold}[1]{\\mathbf{#1}}\\sigma = \\frac{\\sqrt{2}}{2 \\, {\\lambda}}$$"
      ],
      "text/plain": [
       "sigma == 1/2*sqrt(2)/l"
      ]
     },
     "metadata": {},
     "output_type": "display_data"
    }
   ],
   "source": [
    "sigma = var('sigma')\n",
    "eqs = sigma == sqrt(x2-x1^2) #The standard deviation\n",
    "show(sigma, LatexExpr(r' = \\sqrt{\\langle x^2\\rangle - \\langle x\\rangle^2}'))\n",
    "show(eqs.full_simplify())"
   ]
  },
  {
   "cell_type": "code",
   "execution_count": 56,
   "metadata": {},
   "outputs": [
    {
     "data": {
      "image/png": "[encoded data removed]",
      "text/plain": [
       "Graphics object consisting of 1 graphics primitive"
      ]
     },
     "execution_count": 56,
     "metadata": {},
     "output_type": "execute_result"
    }
   ],
   "source": [
    "l_val = 1  #choose value for lambda\n",
    "w_val = pi #choose value for omega\n",
    "t_val = 0  #time 0\n",
    "\n",
    "x_marks = [x1,x1-eqs.rhs()(l=l_val), x1+eqs.rhs()(l=l_val)] #markers for mean + or - standard deviation\n",
    "x_marks = [float(i) for i in x_marks]\n",
    "P = plot(eq1.rhs()(l=l_val, w=w_val), (-5,5), legend_label=r\"$%s$\"%latex(eq1.lhs()), axes_labels=['x','y'], ticks=[x_marks,None], tick_formatter=[[r\"$\\langle x\\rangle$\", r\"$\\langle x\\rangle-\\sigma$\", r\"$\\langle x\\rangle+\\sigma$\"], None])\n",
    "P"
   ]
  },
  {
   "cell_type": "code",
   "execution_count": null,
   "metadata": {},
   "outputs": [],
   "source": [
    "l_val = 1  #choose value for lambda\n",
    "w_val = pi #choose value for omega\n",
    "t_val = .25  #time 0\n",
    "\n",
    "x_marks = [x1,x1-eqs.rhs()(l=l_val), x1+eqs.rhs()(l=l_val)] #markers for mean + or - standard deviation\n",
    "x_marks = [float(i) for i in x_marks]\n",
    "P = plot(eq0.rhs().real()(l=l_val, w=w_val, t=t_val), (-5,5), legend_label=r\"$%s$\"%latex(eq0.lhs()), axes_labels=['x','y'], ticks=[x_marks,None], tick_formatter=[[r\"$\\langle x\\rangle$\", r\"$\\langle x\\rangle-\\sigma$\", r\"$\\langle x\\rangle+\\sigma$\"], None], color = 'blue')\n",
    "P += plot(eq0.rhs().imag()(l=l_val, w=w_val, t=t_val), (-5,5), color = 'orange', legend_label=r\"$%s$\"%latex(eq0.lhs()) + ' Imaginary')\n",
    "P"
   ]
  }
 ],
 "metadata": {
  "kernelspec": {
   "display_name": "SageMath 9.3",
   "language": "sage",
   "name": "sagemath"
  },
  "language_info": {
   "codemirror_mode": {
    "name": "ipython",
    "version": 3
   },
   "file_extension": ".py",
   "mimetype": "text/x-python",
   "name": "python",
   "nbconvert_exporter": "python",
   "pygments_lexer": "ipython3",
   "version": "3.7.10"
  }
 },
 "nbformat": 4,
 "nbformat_minor": 4
}
